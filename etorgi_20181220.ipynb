{
 "cells": [
  {
   "cell_type": "code",
   "execution_count": 1,
   "metadata": {},
   "outputs": [],
   "source": [
    "import json\n",
    "import re\n",
    "import sys\n",
    "import os\n",
    "import pandas as pd\n",
    "import socket\n",
    "import urllib\n",
    "import win32con\n",
    "import win32gui\n",
    "import requests\n",
    "import datetime\n",
    "import struct\n",
    "import time\n",
    "import smtplib as smtp\n",
    "import base64\n",
    "from urllib.request import urlopen\n",
    "from bs4 import BeautifulSoup\n",
    "from tqdm import tqdm_notebook, tqdm\n",
    "from random import randint\n",
    "from time import sleep\n",
    "from win32api import GetModuleHandle\n",
    "pd.set_option('display.max_columns', None)"
   ]
  },
  {
   "cell_type": "code",
   "execution_count": 3,
   "metadata": {},
   "outputs": [],
   "source": [
    "def get_r(url_page, id_auc):\n",
    "    flag = True\n",
    "    while flag:\n",
    "        try:\n",
    "            r = requests.post(url_page, data={'id': id_auc})\n",
    "            flag = False\n",
    "        except socket.timeout as e:\n",
    "            print(type(e))\n",
    "            flag = True\n",
    "    return r\n",
    "def pretty_print(r):\n",
    "    for offer in r.json()['offerInfo']:\n",
    "        print(list(offer.values())[0]['number'], ' | ',\n",
    "              list(offer.values())[0]['code'], ' | ',\n",
    "              list(offer.values())[0]['bestOfferFormated'], ' | ', \n",
    "              list(offer.values())[0]['bestOfferDateTime'])\n",
    "    print('\\n')\n",
    "def get_numbers_codes(r):\n",
    "    numbers = []\n",
    "    codes = []\n",
    "    for offer in r.json()['offerInfo']:\n",
    "        numbers.append(int(list(offer.values())[0]['number']))\n",
    "        codes.append(list(offer.values())[0]['code'])\n",
    "    return numbers, codes, sum([x == y for x, y in zip(numbers, codes)])\n",
    "def write_history(r):\n",
    "    time_mark = str(datetime.datetime.now()).replace(':', '_').replace('.', '_')\n",
    "    with open('history_{}.txt'.format(time_mark), 'w') as outfile:\n",
    "        json.dump(r.json(), outfile)\n",
    "def send_mail(email_text):\n",
    "    email = '***@***.ru'\n",
    "    password = base64.b64decode(b'**********').decode('utf-8')\n",
    "    dest_email = ['***@***.ru', '***@***.ru']\n",
    "    subject = 'Auction warning'\n",
    "    message = 'From: {}\\nTo: {}\\nSubject: {}\\n\\n{}'.format(email, ', '.join(dest_email), subject, email_text)\n",
    "    server = smtp.SMTP_SSL('smtp.yandex.com')\n",
    "    #server.set_debuglevel(1)\n",
    "    #server.ehlo(email)\n",
    "    server.login(email, password)\n",
    "    server.auth_plain()\n",
    "    server.sendmail(email, dest_email, message)\n",
    "    server.quit()"
   ]
  },
  {
   "cell_type": "code",
   "execution_count": 4,
   "metadata": {
    "scrolled": true
   },
   "outputs": [],
   "source": [
    "def main():\n",
    "    os.chdir('C:/Users/vgarshin/Documents/Py/etorgi')\n",
    "    cur_dir = 'history'\n",
    "    if not os.path.exists(cur_dir):\n",
    "        os.makedirs(cur_dir)\n",
    "    os.chdir('C:/Users/vgarshin/Documents/Py/etorgi' + '/' + cur_dir)\n",
    "    url_page = 'https://www.etp-ets.ru/data/get-auction-info'\n",
    "    id_auc = 359169\n",
    "    timeout = 5\n",
    "    rounds = 2\n",
    "    history = []\n",
    "    email_text = 'VTB is second for {} rounds, or {} seconds'.format(rounds, timeout * rounds)\n",
    "    for _ in range(rounds):\n",
    "        r = get_r(url_page, id_auc)\n",
    "        pretty_print(r)\n",
    "        write_history(r)\n",
    "        history.append(r)\n",
    "        sleep(timeout)\n",
    "    print('end of init history\\n')\n",
    "    while True:\n",
    "        try:\n",
    "            r = get_r(url_page, id_auc)\n",
    "            pretty_print(r)\n",
    "            write_history(r)\n",
    "            history.append(r)\n",
    "            history = history[-rounds:]\n",
    "            battle = []\n",
    "            for hel in history:\n",
    "                for offer in hel.json()['offerInfo']:\n",
    "                    battle.append([list(offer.values())[0]['number'],\n",
    "                                   list(offer.values())[0]['code']])\n",
    "            if all([x[1] == 2 for x in battle if x[0] == '2']) == True:\n",
    "                send_mail(email_text)\n",
    "            sleep(timeout)\n",
    "        except KeyboardInterrupt:\n",
    "            print('KeyboardInterrupt')\n",
    "            break"
   ]
  },
  {
   "cell_type": "code",
   "execution_count": null,
   "metadata": {
    "scrolled": true
   },
   "outputs": [],
   "source": [
    "if __name__ == '__main__':\n",
    "    main()"
   ]
  },
  {
   "cell_type": "code",
   "execution_count": null,
   "metadata": {},
   "outputs": [],
   "source": []
  }
 ],
 "metadata": {
  "kernelspec": {
   "display_name": "Python 3",
   "language": "python",
   "name": "python3"
  },
  "language_info": {
   "codemirror_mode": {
    "name": "ipython",
    "version": 3
   },
   "file_extension": ".py",
   "mimetype": "text/x-python",
   "name": "python",
   "nbconvert_exporter": "python",
   "pygments_lexer": "ipython3",
   "version": "3.6.4"
  }
 },
 "nbformat": 4,
 "nbformat_minor": 2
}
